{
  "nbformat": 4,
  "nbformat_minor": 0,
  "metadata": {
    "colab": {
      "provenance": [],
      "authorship_tag": "ABX9TyP9rTClMnzytoy6eiuoaIXy",
      "include_colab_link": true
    },
    "kernelspec": {
      "name": "python3",
      "display_name": "Python 3"
    },
    "language_info": {
      "name": "python"
    }
  },
  "cells": [
    {
      "cell_type": "markdown",
      "metadata": {
        "id": "view-in-github",
        "colab_type": "text"
      },
      "source": [
        "<a href=\"https://colab.research.google.com/github/ArjunSharma2808/Fake-News-Detection/blob/main/fakenews.ipynb\" target=\"_parent\"><img src=\"https://colab.research.google.com/assets/colab-badge.svg\" alt=\"Open In Colab\"/></a>"
      ]
    },
    {
      "cell_type": "code",
      "execution_count": null,
      "metadata": {
        "id": "k_QNpuIRd7KC"
      },
      "outputs": [],
      "source": []
    },
    {
      "cell_type": "code",
      "execution_count": 2,
      "metadata": {
        "colab": {
          "base_uri": "https://localhost:8080/"
        },
        "id": "EdmWFRZJaV58",
        "outputId": "1da6e6d4-06e2-40d5-ee0e-1b249ae77758"
      },
      "outputs": [
        {
          "output_type": "stream",
          "name": "stdout",
          "text": [
            "  Unnamed: 0                                              title  \\\n",
            "0       8476                       You Can Smell Hillary’s Fear   \n",
            "1      10294  Watch The Exact Moment Paul Ryan Committed Pol...   \n",
            "2       3608        Kerry to go to Paris in gesture of sympathy   \n",
            "3      10142  Bernie supporters on Twitter erupt in anger ag...   \n",
            "4        875   The Battle of New York: Why This Primary Matters   \n",
            "\n",
            "                                                text label Unnamed: 4  \\\n",
            "0  Daniel Greenfield, a Shillman Journalism Fello...  FAKE        NaN   \n",
            "1  Google Pinterest Digg Linkedin Reddit Stumbleu...  FAKE        NaN   \n",
            "2  U.S. Secretary of State John F. Kerry said Mon...  REAL        NaN   \n",
            "3  — Kaydee King (@KaydeeKing) November 9, 2016 T...  FAKE        NaN   \n",
            "4  It's primary day in New York and front-runners...  REAL        NaN   \n",
            "\n",
            "  Unnamed: 5 Unnamed: 6 Unnamed: 7 Unnamed: 8 Unnamed: 9  ... Unnamed: 131  \\\n",
            "0        NaN        NaN        NaN        NaN        NaN  ...          NaN   \n",
            "1        NaN        NaN        NaN        NaN        NaN  ...          NaN   \n",
            "2        NaN        NaN        NaN        NaN        NaN  ...          NaN   \n",
            "3        NaN        NaN        NaN        NaN        NaN  ...          NaN   \n",
            "4        NaN        NaN        NaN        NaN        NaN  ...          NaN   \n",
            "\n",
            "  Unnamed: 132 Unnamed: 133 Unnamed: 134 Unnamed: 135 Unnamed: 136  \\\n",
            "0          NaN          NaN          NaN          NaN          NaN   \n",
            "1          NaN          NaN          NaN          NaN          NaN   \n",
            "2          NaN          NaN          NaN          NaN          NaN   \n",
            "3          NaN          NaN          NaN          NaN          NaN   \n",
            "4          NaN          NaN          NaN          NaN          NaN   \n",
            "\n",
            "  Unnamed: 137 Unnamed: 138 Unnamed: 139 Unnamed: 140  \n",
            "0          NaN          NaN          NaN          NaN  \n",
            "1          NaN          NaN          NaN          NaN  \n",
            "2          NaN          NaN          NaN          NaN  \n",
            "3          NaN          NaN          NaN          NaN  \n",
            "4          NaN          NaN          NaN          NaN  \n",
            "\n",
            "[5 rows x 141 columns]\n"
          ]
        },
        {
          "output_type": "stream",
          "name": "stderr",
          "text": [
            "<ipython-input-2-efa92a051523>:7: DtypeWarning: Columns (0,4,5,6,7,8,9,10,11,12,13,14,15,16,17,18,19,20,21,22,23,24,25,26,27,28,29,30,31,32,33,34,35,36,37,38,39,40,41,42,43,44,45,46,47,48,49,50,51,52,53,54,55,56,57,58,59,60,61,62,63,64,65,66,67,68,69,70,71,72,73,74,75,76,77,78,79,80,81,82,83,84,85,86,87,88,89,90,91,92,93,94,95,96,97,98,99,100,101,102,103,104,105,106,107,108,109,110,111,112,113,114,115,116,117,118,119,120,121,122,123,124,125,126,127,128,129,130,131,132,133,134,135,136,137,138,139,140) have mixed types. Specify dtype option on import or set low_memory=False.\n",
            "  data = pd.read_csv(\"fakerealnews.csv\")\n"
          ]
        }
      ],
      "source": [
        "import pandas as pd\n",
        "import numpy as np\n",
        "from sklearn.feature_extraction.text import CountVectorizer\n",
        "from sklearn.model_selection import train_test_split\n",
        "from sklearn.naive_bayes import MultinomialNB\n",
        "\n",
        "data = pd.read_csv(\"fakerealnews.csv\")\n",
        "print(data.head())"
      ]
    },
    {
      "cell_type": "code",
      "source": [
        "!pip install numpy"
      ],
      "metadata": {
        "colab": {
          "base_uri": "https://localhost:8080/"
        },
        "id": "5egVFp53e6lB",
        "outputId": "d9af0fbb-b48f-4841-afc6-50657e224c41"
      },
      "execution_count": 3,
      "outputs": [
        {
          "output_type": "stream",
          "name": "stdout",
          "text": [
            "Requirement already satisfied: numpy in /usr/local/lib/python3.10/dist-packages (1.25.2)\n"
          ]
        }
      ]
    },
    {
      "cell_type": "code",
      "source": [
        "import numpy as np"
      ],
      "metadata": {
        "id": "JSuCJyrffAuE"
      },
      "execution_count": 4,
      "outputs": []
    },
    {
      "cell_type": "code",
      "source": [
        "print(data.head())"
      ],
      "metadata": {
        "colab": {
          "base_uri": "https://localhost:8080/"
        },
        "id": "QEq-NCQYfHhl",
        "outputId": "da9d28c7-636a-4b98-a824-6cf829a27414"
      },
      "execution_count": 5,
      "outputs": [
        {
          "output_type": "stream",
          "name": "stdout",
          "text": [
            "  Unnamed: 0                                              title  \\\n",
            "0       8476                       You Can Smell Hillary’s Fear   \n",
            "1      10294  Watch The Exact Moment Paul Ryan Committed Pol...   \n",
            "2       3608        Kerry to go to Paris in gesture of sympathy   \n",
            "3      10142  Bernie supporters on Twitter erupt in anger ag...   \n",
            "4        875   The Battle of New York: Why This Primary Matters   \n",
            "\n",
            "                                                text label Unnamed: 4  \\\n",
            "0  Daniel Greenfield, a Shillman Journalism Fello...  FAKE        NaN   \n",
            "1  Google Pinterest Digg Linkedin Reddit Stumbleu...  FAKE        NaN   \n",
            "2  U.S. Secretary of State John F. Kerry said Mon...  REAL        NaN   \n",
            "3  — Kaydee King (@KaydeeKing) November 9, 2016 T...  FAKE        NaN   \n",
            "4  It's primary day in New York and front-runners...  REAL        NaN   \n",
            "\n",
            "  Unnamed: 5 Unnamed: 6 Unnamed: 7 Unnamed: 8 Unnamed: 9  ... Unnamed: 131  \\\n",
            "0        NaN        NaN        NaN        NaN        NaN  ...          NaN   \n",
            "1        NaN        NaN        NaN        NaN        NaN  ...          NaN   \n",
            "2        NaN        NaN        NaN        NaN        NaN  ...          NaN   \n",
            "3        NaN        NaN        NaN        NaN        NaN  ...          NaN   \n",
            "4        NaN        NaN        NaN        NaN        NaN  ...          NaN   \n",
            "\n",
            "  Unnamed: 132 Unnamed: 133 Unnamed: 134 Unnamed: 135 Unnamed: 136  \\\n",
            "0          NaN          NaN          NaN          NaN          NaN   \n",
            "1          NaN          NaN          NaN          NaN          NaN   \n",
            "2          NaN          NaN          NaN          NaN          NaN   \n",
            "3          NaN          NaN          NaN          NaN          NaN   \n",
            "4          NaN          NaN          NaN          NaN          NaN   \n",
            "\n",
            "  Unnamed: 137 Unnamed: 138 Unnamed: 139 Unnamed: 140  \n",
            "0          NaN          NaN          NaN          NaN  \n",
            "1          NaN          NaN          NaN          NaN  \n",
            "2          NaN          NaN          NaN          NaN  \n",
            "3          NaN          NaN          NaN          NaN  \n",
            "4          NaN          NaN          NaN          NaN  \n",
            "\n",
            "[5 rows x 141 columns]\n"
          ]
        }
      ]
    },
    {
      "cell_type": "code",
      "source": [
        "data = data.fillna(\"\")"
      ],
      "metadata": {
        "id": "0OYtG0j2fI-0"
      },
      "execution_count": 6,
      "outputs": []
    },
    {
      "cell_type": "code",
      "source": [
        "x = np.array(data[\"title\"])\n",
        "y = np.array(data[\"label\"])\n",
        "\n",
        "cv = CountVectorizer()\n",
        "x = cv.fit_transform(x)"
      ],
      "metadata": {
        "id": "Lp7ICYrefMdk"
      },
      "execution_count": 7,
      "outputs": []
    },
    {
      "cell_type": "code",
      "source": [
        "xtrain, xtest, ytrain, ytest = train_test_split(x, y, test_size=0.2, random_state=42)\n",
        "model = MultinomialNB()\n",
        "model.fit(xtrain, ytrain)\n",
        "print(model.score(xtest, ytest))"
      ],
      "metadata": {
        "colab": {
          "base_uri": "https://localhost:8080/"
        },
        "id": "W3TBghcTfQxl",
        "outputId": "6f382397-5849-4dd5-d5dd-6ac8f2a6fdc1"
      },
      "execution_count": 8,
      "outputs": [
        {
          "output_type": "stream",
          "name": "stdout",
          "text": [
            "0.7007454739084132\n"
          ]
        }
      ]
    },
    {
      "cell_type": "code",
      "source": [
        "news_headline = \"CA Exams 2021: Supreme Court asks ICAI to extend opt-out option for July exams, final order tomorrow\"\n",
        "data = cv.transform([news_headline]).toarray()\n",
        "print(model.predict(data))"
      ],
      "metadata": {
        "colab": {
          "base_uri": "https://localhost:8080/"
        },
        "id": "Qwktnq8AfVBx",
        "outputId": "5952a34e-3941-4a80-e4ff-754aef1d408c"
      },
      "execution_count": 9,
      "outputs": [
        {
          "output_type": "stream",
          "name": "stdout",
          "text": [
            "['REAL']\n"
          ]
        }
      ]
    }
  ]
}